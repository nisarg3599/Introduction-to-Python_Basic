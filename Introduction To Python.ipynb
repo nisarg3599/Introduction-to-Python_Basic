{
 "cells": [
  {
   "cell_type": "markdown",
   "metadata": {
    "colab_type": "text",
    "id": "acuiYw0oJtRH"
   },
   "source": [
    "# Introduction to Python\n",
    "Let's have a look at Python as a language and what features does it bring to be among the top 3 coding languages in the world."
   ]
  },
  {
   "cell_type": "markdown",
   "metadata": {},
   "source": [
    "###### this notebook only contain basics of python"
   ]
  },
  {
   "cell_type": "code",
   "execution_count": 1,
   "metadata": {
    "colab": {
     "base_uri": "https://localhost:8080/",
     "height": 35
    },
    "colab_type": "code",
    "executionInfo": {
     "elapsed": 673,
     "status": "ok",
     "timestamp": 1595831909024,
     "user": {
      "displayName": "Kyongsik Yun",
      "photoUrl": "https://lh3.googleusercontent.com/a-/AOh14GjQlO7uiqLkcFacWZpW47SbJ3da0rOiyuaMuQY9Ug=s64",
      "userId": "13658684151536633281"
     },
     "user_tz": 420
    },
    "id": "l4AG2I8sLbH0",
    "outputId": "29827879-8253-4edf-9440-ab6406eafe93"
   },
   "outputs": [
    {
     "name": "stdout",
     "output_type": "stream",
     "text": [
      "Welcome to Introduction to Python\n"
     ]
    }
   ],
   "source": [
    "# 1. Unlike other languages Python program works on an Interpreter so to run a code all you have to do is type it out\n",
    "print(\"Welcome to Introduction to Python\")"
   ]
  },
  {
   "cell_type": "code",
   "execution_count": 2,
   "metadata": {
    "colab": {},
    "colab_type": "code",
    "id": "bxuMBKu1KKSP"
   },
   "outputs": [],
   "source": [
    "# 2. Python language runs line by line, so incase you want to update a piece of code all you have to do is \n",
    "#    update the line let's see how -"
   ]
  },
  {
   "cell_type": "code",
   "execution_count": 3,
   "metadata": {
    "colab": {
     "base_uri": "https://localhost:8080/",
     "height": 109
    },
    "colab_type": "code",
    "executionInfo": {
     "elapsed": 482,
     "status": "ok",
     "timestamp": 1595831912766,
     "user": {
      "displayName": "Kyongsik Yun",
      "photoUrl": "https://lh3.googleusercontent.com/a-/AOh14GjQlO7uiqLkcFacWZpW47SbJ3da0rOiyuaMuQY9Ug=s64",
      "userId": "13658684151536633281"
     },
     "user_tz": 420
    },
    "id": "LWQ5ld8jKgPM",
    "outputId": "091c4470-edd8-409c-aebf-fd4d42d85986"
   },
   "outputs": [
    {
     "name": "stdout",
     "output_type": "stream",
     "text": [
      "O    \n",
      "|    \n",
      "|____\n",
      " ||||\n",
      " ||||\n"
     ]
    }
   ],
   "source": [
    "#Imaginary giraffe\n",
    "print(\"O    \")\n",
    "print(\"|    \")\n",
    "print(\"|____\")\n",
    "print(\" ||||\")\n",
    "print(\" ||||\")"
   ]
  },
  {
   "cell_type": "code",
   "execution_count": 4,
   "metadata": {
    "colab": {
     "base_uri": "https://localhost:8080/",
     "height": 35
    },
    "colab_type": "code",
    "executionInfo": {
     "elapsed": 583,
     "status": "ok",
     "timestamp": 1595831915732,
     "user": {
      "displayName": "Kyongsik Yun",
      "photoUrl": "https://lh3.googleusercontent.com/a-/AOh14GjQlO7uiqLkcFacWZpW47SbJ3da0rOiyuaMuQY9Ug=s64",
      "userId": "13658684151536633281"
     },
     "user_tz": 420
    },
    "id": "lroSRKFKNy5F",
    "outputId": "03817442-2617-48ec-df13-d4850ec334e4"
   },
   "outputs": [
    {
     "name": "stdout",
     "output_type": "stream",
     "text": [
      "$$$\n"
     ]
    }
   ],
   "source": [
    "#Let's add another print statement \n",
    "print(\"$\" * 3)\n"
   ]
  },
  {
   "cell_type": "markdown",
   "metadata": {
    "colab_type": "text",
    "id": "Yu_NkVLoOMke"
   },
   "source": [
    "Now let's see what happened here  - \n",
    "\n",
    "Any character whether it be numeric or text enclosed within \" \" or ' '  gets considered as a string; \n",
    "\n",
    "A string is a data type which contains a series of characters\n",
    "\n",
    "Just like string, there are numerous types of variables in Python; let's have a look\n"
   ]
  },
  {
   "cell_type": "markdown",
   "metadata": {
    "colab_type": "text",
    "id": "6FEpt0QvH4xG"
   },
   "source": [
    "<h2 style=\"color:Brown\"> Variables</h2>\n",
    "Python variables are a container that can store any type of value and of any particular size.\n",
    "Unlike other languages such as C, Java - Variables in Python don't need initialization. Let's create a variable to see how do they work \n",
    "\n",
    "\n",
    "\n"
   ]
  },
  {
   "cell_type": "markdown",
   "metadata": {
    "colab_type": "text",
    "id": "i7soLQWGJq4j"
   },
   "source": []
  },
  {
   "cell_type": "code",
   "execution_count": 5,
   "metadata": {
    "colab": {
     "base_uri": "https://localhost:8080/",
     "height": 35
    },
    "colab_type": "code",
    "executionInfo": {
     "elapsed": 556,
     "status": "ok",
     "timestamp": 1595831928174,
     "user": {
      "displayName": "Kyongsik Yun",
      "photoUrl": "https://lh3.googleusercontent.com/a-/AOh14GjQlO7uiqLkcFacWZpW47SbJ3da0rOiyuaMuQY9Ug=s64",
      "userId": "13658684151536633281"
     },
     "user_tz": 420
    },
    "id": "CbO7PASoH4xI",
    "outputId": "638d4573-52f6-4459-915b-73180a21d51e"
   },
   "outputs": [
    {
     "name": "stdout",
     "output_type": "stream",
     "text": [
      "Mike\n"
     ]
    }
   ],
   "source": [
    "var1 = \"Mike\"\n",
    "print(var1)"
   ]
  },
  {
   "cell_type": "code",
   "execution_count": 6,
   "metadata": {
    "colab": {
     "base_uri": "https://localhost:8080/",
     "height": 35
    },
    "colab_type": "code",
    "executionInfo": {
     "elapsed": 332,
     "status": "ok",
     "timestamp": 1595831970213,
     "user": {
      "displayName": "Kyongsik Yun",
      "photoUrl": "https://lh3.googleusercontent.com/a-/AOh14GjQlO7uiqLkcFacWZpW47SbJ3da0rOiyuaMuQY9Ug=s64",
      "userId": "13658684151536633281"
     },
     "user_tz": 420
    },
    "id": "OXneMegZJa2a",
    "outputId": "c885ad41-0a8c-4f10-c433-500924b44326"
   },
   "outputs": [
    {
     "name": "stdout",
     "output_type": "stream",
     "text": [
      "6\n"
     ]
    }
   ],
   "source": [
    "var2 = 6\n",
    "print(var2)"
   ]
  },
  {
   "cell_type": "markdown",
   "metadata": {
    "colab_type": "text",
    "id": "5jV0332lbOdI"
   },
   "source": [
    "Now that we know how to store a variable in Python let's try getting input from a user and storing it in Python"
   ]
  },
  {
   "cell_type": "code",
   "execution_count": 7,
   "metadata": {
    "colab": {},
    "colab_type": "code",
    "id": "Hf9Yg9BSbZer"
   },
   "outputs": [],
   "source": [
    "#To get a input from a user we would use the 'input' function"
   ]
  },
  {
   "cell_type": "code",
   "execution_count": 8,
   "metadata": {
    "colab": {
     "base_uri": "https://localhost:8080/",
     "height": 54
    },
    "colab_type": "code",
    "executionInfo": {
     "elapsed": 4313,
     "status": "ok",
     "timestamp": 1595831979498,
     "user": {
      "displayName": "Kyongsik Yun",
      "photoUrl": "https://lh3.googleusercontent.com/a-/AOh14GjQlO7uiqLkcFacWZpW47SbJ3da0rOiyuaMuQY9Ug=s64",
      "userId": "13658684151536633281"
     },
     "user_tz": 420
    },
    "id": "GfArxloQbmLm",
    "outputId": "662f85e6-2a37-42c8-f988-f2b1093d76a4"
   },
   "outputs": [
    {
     "name": "stdout",
     "output_type": "stream",
     "text": [
      "What's your favourite number? 3\n",
      "3\n"
     ]
    }
   ],
   "source": [
    "number = input(\"What's your favourite number? \")\n",
    "print(number)"
   ]
  },
  {
   "cell_type": "code",
   "execution_count": 9,
   "metadata": {
    "colab": {
     "base_uri": "https://localhost:8080/",
     "height": 51
    },
    "colab_type": "code",
    "executionInfo": {
     "elapsed": 7520,
     "status": "ok",
     "timestamp": 1595587706436,
     "user": {
      "displayName": "Anmol Gulwani",
      "photoUrl": "",
      "userId": "09050414380925456710"
     },
     "user_tz": -330
    },
    "id": "AR9Na_GCH4xN",
    "outputId": "755ac382-3509-40fb-fcf8-f196c55ac39a"
   },
   "outputs": [
    {
     "name": "stdout",
     "output_type": "stream",
     "text": [
      "Enter your name : Nisarg\n",
      "Welcome Nisarg\n"
     ]
    }
   ],
   "source": [
    "#Let's try taking adding a string to the answer received\n",
    "name = input(\"Enter your name : \")\n",
    "print(\"Welcome\", name)"
   ]
  },
  {
   "cell_type": "code",
   "execution_count": 10,
   "metadata": {
    "colab": {
     "base_uri": "https://localhost:8080/",
     "height": 51
    },
    "colab_type": "code",
    "executionInfo": {
     "elapsed": 27074711,
     "status": "ok",
     "timestamp": 1596543309701,
     "user": {
      "displayName": "Anmol Gulwani",
      "photoUrl": "",
      "userId": "09050414380925456710"
     },
     "user_tz": -330
    },
    "id": "NORANQ8zcHWW",
    "outputId": "97cf7358-012c-4eb2-8cc1-054a4cb2b7ff"
   },
   "outputs": [
    {
     "name": "stdout",
     "output_type": "stream",
     "text": [
      "Enter your age : 22\n",
      "You are  222222222222222222222222  months old\n"
     ]
    }
   ],
   "source": [
    "#That was helpful, could I also perform operation on input received?\n",
    "age = input(\"Enter your age : \")\n",
    "print(\"You are \" , age*12 , \" months old\")"
   ]
  },
  {
   "cell_type": "code",
   "execution_count": 11,
   "metadata": {
    "colab": {},
    "colab_type": "code",
    "id": "AgFFu2WIcp7m"
   },
   "outputs": [
    {
     "name": "stdout",
     "output_type": "stream",
     "text": [
      "enter your age 22\n",
      "You are  264  months old\n"
     ]
    }
   ],
   "source": [
    "age = input(\"enter your age \")\n",
    "age = int(age)\n",
    "print(\"You are \" , age*12 , \" months old\")\n",
    "#Changing the the of variables type is called typecasting"
   ]
  },
  {
   "cell_type": "markdown",
   "metadata": {
    "colab_type": "text",
    "id": "mXWxOj_rH4xR"
   },
   "source": [
    "<h2 style=\"color:Brown\"> How to find the Data Type for a variables in Python\n"
   ]
  },
  {
   "cell_type": "markdown",
   "metadata": {
    "colab_type": "text",
    "id": "KI-9G8YXH4xS"
   },
   "source": [
    "Here in the below piece of code you can see that we have assigned each variable with a particular value and use the type method we can check the datatype of the variable"
   ]
  },
  {
   "cell_type": "code",
   "execution_count": 12,
   "metadata": {
    "colab": {},
    "colab_type": "code",
    "id": "VDEon9XDH4xS",
    "outputId": "4efd52ad-3464-4942-e4d3-782cc2e758f8"
   },
   "outputs": [
    {
     "name": "stdout",
     "output_type": "stream",
     "text": [
      "<class 'int'>\n",
      "<class 'float'>\n",
      "<class 'str'>\n",
      "<class 'bool'>\n"
     ]
    }
   ],
   "source": [
    "integer_num = 1\n",
    "floating_num = 1.3\n",
    "string = 'Mike'\n",
    "boolean = True\n",
    "\n",
    "print (type(integer_num))\n",
    "print (type(floating_num))\n",
    "print (type(string))\n",
    "print (type(boolean))"
   ]
  },
  {
   "cell_type": "markdown",
   "metadata": {
    "colab_type": "text",
    "id": "8FgbYtFBH4xW"
   },
   "source": [
    "- Type Casting in Python"
   ]
  },
  {
   "cell_type": "code",
   "execution_count": 13,
   "metadata": {
    "colab": {},
    "colab_type": "code",
    "id": "bqJtvP3DH4xX",
    "outputId": "8c0660ad-25d8-4e3e-a8a9-b75961f582a6"
   },
   "outputs": [
    {
     "name": "stdout",
     "output_type": "stream",
     "text": [
      "True\n",
      "1.0\n",
      "1\n"
     ]
    }
   ],
   "source": [
    "#Now let us try taking an \n",
    "a = 1\n",
    "print ( bool(a))\n",
    "print ( float(a))\n",
    "print ( str(a))"
   ]
  },
  {
   "cell_type": "markdown",
   "metadata": {
    "colab_type": "text",
    "id": "zbUOzXplH4xc"
   },
   "source": [
    "<h2 style=\"color:Brown\"> Arithmatic Operations"
   ]
  },
  {
   "cell_type": "code",
   "execution_count": 14,
   "metadata": {
    "colab": {},
    "colab_type": "code",
    "id": "C-rq1grYH4xd",
    "outputId": "dd38e3a0-3c76-4afb-fb5b-935417114f53",
    "scrolled": true
   },
   "outputs": [
    {
     "name": "stdout",
     "output_type": "stream",
     "text": [
      "Addition  =  13\n",
      "Substraction =  -1\n",
      "Multiplication =  42\n",
      "Division =  0.8571428571428571\n",
      "Floor Division =  0\n",
      "Modulus or remainder 6\n",
      "Exponential =  279936\n"
     ]
    }
   ],
   "source": [
    "#\n",
    "a = 6\n",
    "b = 7\n",
    "print(\"Addition  = \", a + b)  \n",
    "print(\"Substraction = \", a - b) \n",
    "print(\"Multiplication = \", a * b) \n",
    "print(\"Division = \", a / b)\n",
    "print(\"Floor Division = \", a // b) \n",
    "print(\"Modulus or remainder\",a % b) \n",
    "print(\"Exponential = \", a ** b)"
   ]
  },
  {
   "cell_type": "markdown",
   "metadata": {
    "colab_type": "text",
    "id": "YTU_EhqujNSs"
   },
   "source": [
    "Now if you recall that the mathematical  operators follow a precedence rule called PEDMAS -\n",
    "Wherein the fist P is parenthesis, then it's E for exponents, M for multiplication, then D for division, A for addition and finally S for subtraction.\n",
    "\n",
    "\n",
    "Reference - [Python operator precedence](https://docs.python.org/3.7/reference/expressions.html?#operator-precedence)\n"
   ]
  },
  {
   "cell_type": "code",
   "execution_count": 15,
   "metadata": {
    "colab": {
     "base_uri": "https://localhost:8080/",
     "height": 34
    },
    "colab_type": "code",
    "executionInfo": {
     "elapsed": 2439,
     "status": "ok",
     "timestamp": 1596285594101,
     "user": {
      "displayName": "Anmol Gulwani",
      "photoUrl": "",
      "userId": "09050414380925456710"
     },
     "user_tz": -330
    },
    "id": "qC8MgARYH4xh",
    "outputId": "06ba7580-47d1-44b7-a545-047696d23e8d"
   },
   "outputs": [
    {
     "name": "stdout",
     "output_type": "stream",
     "text": [
      "11.857142857142858\n"
     ]
    }
   ],
   "source": [
    "print((4 * 5) - 9 + 6 / 7)"
   ]
  },
  {
   "cell_type": "markdown",
   "metadata": {
    "colab_type": "text",
    "id": "2dTQ8X9NH4xl"
   },
   "source": [
    "<h2 style=\"color:Brown\"> String Operations"
   ]
  },
  {
   "cell_type": "markdown",
   "metadata": {
    "colab_type": "text",
    "id": "1aAS2M1JkVjJ"
   },
   "source": [
    "We should look at strings as a banner where multiple characters are linked together. The string data is an immutable type which means it cannot be modified."
   ]
  },
  {
   "cell_type": "code",
   "execution_count": 16,
   "metadata": {
    "colab": {},
    "colab_type": "code",
    "id": "XYJ-U1jtH4xm"
   },
   "outputs": [],
   "source": [
    "#Whenever we are assigning a char or string we use '' which represents a character\n",
    "c = 'z'\n",
    "d = 'Mike'\n",
    "#You can also use \" \" double quotes instead of single quotes for strings\n",
    "e = \"John\""
   ]
  },
  {
   "cell_type": "code",
   "execution_count": 17,
   "metadata": {
    "colab": {
     "base_uri": "https://localhost:8080/",
     "height": 131
    },
    "colab_type": "code",
    "executionInfo": {
     "elapsed": 3550,
     "status": "error",
     "timestamp": 1595671994228,
     "user": {
      "displayName": "Anmol Gulwani",
      "photoUrl": "",
      "userId": "09050414380925456710"
     },
     "user_tz": -330
    },
    "id": "PP-b43dzc5tY",
    "outputId": "5720c3d0-d804-438a-9959-ae649d59ce83"
   },
   "outputs": [
    {
     "ename": "SyntaxError",
     "evalue": "invalid syntax (<ipython-input-17-c4cc5df40e46>, line 2)",
     "output_type": "error",
     "traceback": [
      "\u001b[1;36m  File \u001b[1;32m\"<ipython-input-17-c4cc5df40e46>\"\u001b[1;36m, line \u001b[1;32m2\u001b[0m\n\u001b[1;33m    print('I didn't know that')\u001b[0m\n\u001b[1;37m                  ^\u001b[0m\n\u001b[1;31mSyntaxError\u001b[0m\u001b[1;31m:\u001b[0m invalid syntax\n"
     ]
    }
   ],
   "source": [
    "#Now when we want to include words with a single quote such as \"didn't\", \"I'll\".. we might end up with a error\n",
    "print('I didn't know that')\n",
    "\n",
    "\n"
   ]
  },
  {
   "cell_type": "code",
   "execution_count": 18,
   "metadata": {
    "colab": {},
    "colab_type": "code",
    "id": "VcNSpcvAdvTz"
   },
   "outputs": [
    {
     "name": "stdout",
     "output_type": "stream",
     "text": [
      "I didn't know that\n"
     ]
    }
   ],
   "source": [
    "#Now to solve this we can use an escape character like \n",
    "print('I didn\\'t know that')"
   ]
  },
  {
   "cell_type": "code",
   "execution_count": 19,
   "metadata": {
    "colab": {},
    "colab_type": "code",
    "id": "IJR5vWOJdw3v"
   },
   "outputs": [
    {
     "name": "stdout",
     "output_type": "stream",
     "text": [
      "I didn't know that\n"
     ]
    }
   ],
   "source": [
    "# Or we can use double quotes\n",
    "print(\"I didn't know that\")"
   ]
  },
  {
   "cell_type": "code",
   "execution_count": 20,
   "metadata": {
    "colab": {
     "base_uri": "https://localhost:8080/",
     "height": 68
    },
    "colab_type": "code",
    "executionInfo": {
     "elapsed": 1255,
     "status": "ok",
     "timestamp": 1595672155530,
     "user": {
      "displayName": "Anmol Gulwani",
      "photoUrl": "",
      "userId": "09050414380925456710"
     },
     "user_tz": -330
    },
    "id": "6AzbWYi-d4GZ",
    "outputId": "4dc03abe-0fd9-4dfa-a702-0ead573d20d5"
   },
   "outputs": [
    {
     "name": "stdout",
     "output_type": "stream",
     "text": [
      "Hi Bob \n",
      "\n",
      "How are you?\n"
     ]
    }
   ],
   "source": [
    "#Now that '\\' escape character which we saw earlier can also be used for other stuff like adding a new line\n",
    "print(\"Hi Bob \\n\\nHow are you?\")"
   ]
  },
  {
   "cell_type": "markdown",
   "metadata": {
    "colab_type": "text",
    "id": "JbMEV7w7erzH"
   },
   "source": [
    "Now apart adding new lines to a string we can also add another to a pre-existing string, let's see how -\n",
    "\n",
    "###String Concatenation\n"
   ]
  },
  {
   "cell_type": "code",
   "execution_count": 21,
   "metadata": {
    "colab": {
     "base_uri": "https://localhost:8080/",
     "height": 68
    },
    "colab_type": "code",
    "executionInfo": {
     "elapsed": 82614,
     "status": "ok",
     "timestamp": 1596543395883,
     "user": {
      "displayName": "Anmol Gulwani",
      "photoUrl": "",
      "userId": "09050414380925456710"
     },
     "user_tz": -330
    },
    "id": "h6ySjLhfekWB",
    "outputId": "0ca366c2-f771-4c55-b592-6e8f4a7b8185"
   },
   "outputs": [
    {
     "name": "stdout",
     "output_type": "stream",
     "text": [
      "What flavour would you like Sweet\n",
      "What type of dessert would you like Brownie\n",
      "You have ordered Sweet-Brownie\n"
     ]
    }
   ],
   "source": [
    "#Let's try building a system that could ask for flavour, and the type of desert user wants\n",
    "flavour=input(\"What flavour would you like \")\n",
    "dessert_type=input(\"What type of dessert would you like \")\n",
    "print(\"You have ordered\", flavour+\"-\"+dessert_type)"
   ]
  },
  {
   "cell_type": "markdown",
   "metadata": {
    "colab_type": "text",
    "id": "1omYsujJhQgH"
   },
   "source": [
    "Congrats on building a simple app using input and string functions. Let's take a step ahead and learn more about string manipulation\n",
    "\n"
   ]
  },
  {
   "cell_type": "markdown",
   "metadata": {
    "colab_type": "text",
    "id": "2Y8x7ktkjZpA"
   },
   "source": [
    "##String Manipulation"
   ]
  },
  {
   "cell_type": "markdown",
   "metadata": {
    "colab_type": "text",
    "id": "cECFQMISH4xp"
   },
   "source": [
    "#### Indexing In Strings <br>\n",
    "- Forward indexing starts with 0\n",
    "- Reverse indexing starts with the last character as -1 in a python string\n",
    "- Strings are immutable which, means they cannot be changed once created.\n",
    "- Strings can be modified by slicing a part of it and concatenating with another\n"
   ]
  },
  {
   "cell_type": "code",
   "execution_count": 22,
   "metadata": {
    "colab": {
     "base_uri": "https://localhost:8080/",
     "height": 34
    },
    "colab_type": "code",
    "executionInfo": {
     "elapsed": 1864,
     "status": "ok",
     "timestamp": 1596292696122,
     "user": {
      "displayName": "Anmol Gulwani",
      "photoUrl": "",
      "userId": "09050414380925456710"
     },
     "user_tz": -330
    },
    "id": "snVEmNw2H4xq",
    "outputId": "6b023b90-5a0d-401d-8971-68cc8b2a2f5f",
    "scrolled": true
   },
   "outputs": [
    {
     "data": {
      "text/plain": [
       "82"
      ]
     },
     "execution_count": 22,
     "metadata": {},
     "output_type": "execute_result"
    }
   ],
   "source": [
    "# Len() function\n",
    "string = \"I have not failed. I’ve just found 10,000 ways that won’t work. – Thomas A. Edison\"\n",
    "len(string)"
   ]
  },
  {
   "cell_type": "code",
   "execution_count": 23,
   "metadata": {
    "colab": {
     "base_uri": "https://localhost:8080/",
     "height": 35
    },
    "colab_type": "code",
    "executionInfo": {
     "elapsed": 1696,
     "status": "ok",
     "timestamp": 1596292823748,
     "user": {
      "displayName": "Anmol Gulwani",
      "photoUrl": "",
      "userId": "09050414380925456710"
     },
     "user_tz": -330
    },
    "id": "b2GSWBq5H4xu",
    "outputId": "cc2b61c3-b177-4d38-b03b-762c73e0361f"
   },
   "outputs": [
    {
     "data": {
      "text/plain": [
       "'I'"
      ]
     },
     "execution_count": 23,
     "metadata": {},
     "output_type": "execute_result"
    }
   ],
   "source": [
    "#Accessing first character\n",
    "string[-82]"
   ]
  },
  {
   "cell_type": "code",
   "execution_count": 24,
   "metadata": {
    "colab": {},
    "colab_type": "code",
    "id": "62uh51-GH4xx",
    "outputId": "cdb1cb20-931d-4540-9358-ebebf7d0c905"
   },
   "outputs": [
    {
     "data": {
      "text/plain": [
       "'n'"
      ]
     },
     "execution_count": 24,
     "metadata": {},
     "output_type": "execute_result"
    }
   ],
   "source": [
    "#Accessing last character using negative indexing\n",
    "string[-1] "
   ]
  },
  {
   "cell_type": "code",
   "execution_count": 25,
   "metadata": {
    "colab": {},
    "colab_type": "code",
    "id": "AOhFNW4lH4x6",
    "outputId": "00ae8c7b-147b-4453-e2e1-730d890dcb57"
   },
   "outputs": [
    {
     "ename": "TypeError",
     "evalue": "'str' object does not support item assignment",
     "output_type": "error",
     "traceback": [
      "\u001b[1;31m---------------------------------------------------------------------------\u001b[0m",
      "\u001b[1;31mTypeError\u001b[0m                                 Traceback (most recent call last)",
      "\u001b[1;32m<ipython-input-25-a4ff1a9fe63e>\u001b[0m in \u001b[0;36m<module>\u001b[1;34m\u001b[0m\n\u001b[0;32m      1\u001b[0m \u001b[1;31m# Trying to change the character at index 2\u001b[0m\u001b[1;33m\u001b[0m\u001b[1;33m\u001b[0m\u001b[1;33m\u001b[0m\u001b[0m\n\u001b[1;32m----> 2\u001b[1;33m \u001b[0mstring\u001b[0m\u001b[1;33m[\u001b[0m\u001b[1;36m2\u001b[0m\u001b[1;33m]\u001b[0m \u001b[1;33m=\u001b[0m \u001b[1;34m't'\u001b[0m\u001b[1;33m\u001b[0m\u001b[1;33m\u001b[0m\u001b[0m\n\u001b[0m",
      "\u001b[1;31mTypeError\u001b[0m: 'str' object does not support item assignment"
     ]
    }
   ],
   "source": [
    "# Trying to change the character at index 2\n",
    "string[2] = 't'\n"
   ]
  },
  {
   "cell_type": "code",
   "execution_count": null,
   "metadata": {
    "colab": {
     "base_uri": "https://localhost:8080/",
     "height": 34
    },
    "colab_type": "code",
    "executionInfo": {
     "elapsed": 1324,
     "status": "ok",
     "timestamp": 1595690954233,
     "user": {
      "displayName": "Anmol Gulwani",
      "photoUrl": "",
      "userId": "09050414380925456710"
     },
     "user_tz": -330
    },
    "id": "lz85h-P6H4x9",
    "outputId": "97abfc72-54fb-4e46-96c5-3395d99e7158"
   },
   "outputs": [],
   "source": [
    "# Changing the entire string or say changing the label of it\n",
    "string = 'I have not failed. I’ve just found 10,000 ways that won’t work.” – Einstien'\n",
    "print (string)"
   ]
  },
  {
   "cell_type": "markdown",
   "metadata": {
    "colab_type": "text",
    "id": "5pdjo9uaH4yH"
   },
   "source": [
    "#### Slicing In Strings\n",
    "- string[start:end:step]\n",
    "- By default value assignt to this is\n",
    "    - start = 0\n",
    "    - end   = no default value assigned, but if no value maintationed it will go by default till last index of the string\n",
    "    - step  = 1\n",
    "    "
   ]
  },
  {
   "cell_type": "code",
   "execution_count": 26,
   "metadata": {
    "colab": {
     "base_uri": "https://localhost:8080/",
     "height": 34
    },
    "colab_type": "code",
    "executionInfo": {
     "elapsed": 1253,
     "status": "ok",
     "timestamp": 1595691066871,
     "user": {
      "displayName": "Anmol Gulwani",
      "photoUrl": "",
      "userId": "09050414380925456710"
     },
     "user_tz": -330
    },
    "id": "CRt_5l_BH4yI",
    "outputId": "30f47207-9ba6-4352-a28e-477415ed1a95"
   },
   "outputs": [
    {
     "name": "stdout",
     "output_type": "stream",
     "text": [
      "I have not failed. I’ve just found 10,000 ways that won’t work. \n"
     ]
    }
   ],
   "source": [
    "#slicing by specifying start and end index\n",
    "statement = \"I have not failed. I’ve just found 10,000 ways that won’t work. – Thomas A. Edison\"\n",
    "sliced_statement = statement[0:64] # the value assign to end part is not included so the rage will count here is (0-63)\n",
    "print(sliced_statement)"
   ]
  },
  {
   "cell_type": "code",
   "execution_count": 27,
   "metadata": {
    "colab": {},
    "colab_type": "code",
    "id": "K2TcXGaXH4yN",
    "outputId": "b43b4310-8b38-4bfd-96fd-f0fa65b7f5c5"
   },
   "outputs": [
    {
     "name": "stdout",
     "output_type": "stream",
     "text": [
      "5 girls \n",
      "3 boys in a class\n"
     ]
    }
   ],
   "source": [
    "batch = \"5 girls 3 boys in a class\"\n",
    "girls = batch[ :8]\n",
    "print(girls)\n",
    "\n",
    "print(batch[ 8: ]) # In end ther is no vlue assigned than it will "
   ]
  },
  {
   "cell_type": "code",
   "execution_count": 28,
   "metadata": {
    "colab": {},
    "colab_type": "code",
    "id": "QLB2gkMdH4yS",
    "outputId": "5661a050-e1d0-4827-872c-978adb0bf974"
   },
   "outputs": [
    {
     "name": "stdout",
     "output_type": "stream",
     "text": [
      "False\n",
      "True\n"
     ]
    }
   ],
   "source": [
    "# Membership (It will help to check that the substring is present in main string or not)\n",
    "String = \"John! Did you attend the conference on advanced machine learning\"\n",
    "print( 'Lincoln' in String)\n",
    "print ( 'Behzad' not in String)"
   ]
  },
  {
   "cell_type": "markdown",
   "metadata": {
    "colab_type": "text",
    "id": "r1Ea9iqJH4yZ"
   },
   "source": [
    "#### String methods\n",
    "- upper()\n",
    "- lower()\n",
    "- strip()\n",
    "- count(substring,begin,end)\n",
    "- https://docs.python.org/3.7/library/stdtypes.html#string-methods"
   ]
  },
  {
   "cell_type": "code",
   "execution_count": 29,
   "metadata": {
    "colab": {},
    "colab_type": "code",
    "id": "5fdARzWrH4yZ",
    "outputId": "0db800cf-89bf-4145-d920-3b4a121d15d9"
   },
   "outputs": [
    {
     "name": "stdout",
     "output_type": "stream",
     "text": [
      "I AM UPPER CASED\n"
     ]
    }
   ],
   "source": [
    "# upper() \n",
    "small = \"i am upper cased\"\n",
    "print(small.upper())"
   ]
  },
  {
   "cell_type": "code",
   "execution_count": 30,
   "metadata": {
    "colab": {},
    "colab_type": "code",
    "id": "u8fxNqy1H4yc",
    "outputId": "b1d3e050-00d7-44f2-b3ae-f91c2e0073fd"
   },
   "outputs": [
    {
     "name": "stdout",
     "output_type": "stream",
     "text": [
      "i am lower cased\n"
     ]
    }
   ],
   "source": [
    "# lower() \n",
    "large = \"I AM LOWER CASED\"\n",
    "print(large.lower())"
   ]
  },
  {
   "cell_type": "code",
   "execution_count": 31,
   "metadata": {
    "colab": {},
    "colab_type": "code",
    "id": "5ocs12kZH4yf",
    "outputId": "3d6fd1f8-917f-49d3-c817-1058d12928f6"
   },
   "outputs": [
    {
     "name": "stdout",
     "output_type": "stream",
     "text": [
      "There is a space at the end    \n",
      "There is a space at the end\n"
     ]
    }
   ],
   "source": [
    "# rstrip () function\n",
    "some_sentence = \"There is a space at the end    \"\n",
    "print(some_sentence)\n",
    "print(some_sentence.rstrip())"
   ]
  },
  {
   "cell_type": "code",
   "execution_count": 32,
   "metadata": {
    "colab": {},
    "colab_type": "code",
    "id": "is4swCt_H4yi",
    "outputId": "7c385d39-016d-430d-9193-7c27356cb3da"
   },
   "outputs": [
    {
     "name": "stdout",
     "output_type": "stream",
     "text": [
      "4\n"
     ]
    }
   ],
   "source": [
    "increment = '4%'\n",
    "print(increment.rstrip('%')) "
   ]
  },
  {
   "cell_type": "code",
   "execution_count": 33,
   "metadata": {
    "colab": {},
    "colab_type": "code",
    "id": "Pg-tpUwcH4ym",
    "outputId": "01d08933-e3dc-4ec8-dd1c-daac08d6262e"
   },
   "outputs": [
    {
     "name": "stdout",
     "output_type": "stream",
     "text": [
      "   There is space at the start\n",
      "There is space at the start\n"
     ]
    }
   ],
   "source": [
    "# lstrip() function\n",
    "start = \"   There is space at the start\"\n",
    "print(start)\n",
    "print(start.lstrip())"
   ]
  },
  {
   "cell_type": "code",
   "execution_count": 34,
   "metadata": {
    "colab": {},
    "colab_type": "code",
    "id": "_S5NKR7BH4yq",
    "outputId": "077d35e4-6976-4804-e912-ae326c663eb2"
   },
   "outputs": [
    {
     "name": "stdout",
     "output_type": "stream",
     "text": [
      "   Trim whitespaces  \n",
      "Trim whitespaces\n"
     ]
    }
   ],
   "source": [
    "# strip() function \n",
    "spaces = \"   Trim whitespaces  \"\n",
    "print(spaces)\n",
    "print(spaces.strip())"
   ]
  },
  {
   "cell_type": "code",
   "execution_count": 35,
   "metadata": {
    "colab": {},
    "colab_type": "code",
    "id": "zePXgN5fH4yw",
    "outputId": "cc77ef12-1744-4617-dd80-79c8da6025de",
    "scrolled": true
   },
   "outputs": [
    {
     "name": "stdout",
     "output_type": "stream",
     "text": [
      "444\n"
     ]
    }
   ],
   "source": [
    "num_with_chars = '******444#######'\n",
    "print(num_with_chars.rstrip('#').lstrip('*'))"
   ]
  },
  {
   "cell_type": "code",
   "execution_count": 36,
   "metadata": {
    "colab": {
     "base_uri": "https://localhost:8080/",
     "height": 51
    },
    "colab_type": "code",
    "executionInfo": {
     "elapsed": 1684,
     "status": "ok",
     "timestamp": 1596294488628,
     "user": {
      "displayName": "Anmol Gulwani",
      "photoUrl": "",
      "userId": "09050414380925456710"
     },
     "user_tz": -330
    },
    "id": "8PlpEX41H4yz",
    "outputId": "799c0252-f3e8-46c9-9ed4-d64e929384c6"
   },
   "outputs": [
    {
     "name": "stdout",
     "output_type": "stream",
     "text": [
      "2\n",
      "1\n"
     ]
    }
   ],
   "source": [
    "#count() Method\n",
    "string = \"This is a sample sentence\"\n",
    "print(string.count('i'))\n",
    "print(string.count('i',5)) # Here 5 means that it will start counting from 5th index of i "
   ]
  },
  {
   "cell_type": "code",
   "execution_count": 37,
   "metadata": {
    "colab": {
     "base_uri": "https://localhost:8080/",
     "height": 34
    },
    "colab_type": "code",
    "executionInfo": {
     "elapsed": 855,
     "status": "ok",
     "timestamp": 1596294517422,
     "user": {
      "displayName": "Anmol Gulwani",
      "photoUrl": "",
      "userId": "09050414380925456710"
     },
     "user_tz": -330
    },
    "id": "3pP4GniqH4y5",
    "outputId": "42f4c00c-962b-4d94-84df-59a4c6f143cd"
   },
   "outputs": [
    {
     "name": "stdout",
     "output_type": "stream",
     "text": [
      "Data Analysis using Pandas\n"
     ]
    }
   ],
   "source": [
    "#r/R It is used to specify the raw string.% It is used to perform string formatting.\n",
    "\n",
    "A = \"Data\"\n",
    "B = \"Analysis\"\n",
    "C = \"Pandas\"\n",
    "\n",
    "print(\"{0} {1} using {2}\".format(A,B,C))\n"
   ]
  },
  {
   "cell_type": "code",
   "execution_count": 45,
   "metadata": {
    "colab": {
     "base_uri": "https://localhost:8080/",
     "height": 1000
    },
    "colab_type": "code",
    "executionInfo": {
     "elapsed": 1160,
     "status": "ok",
     "timestamp": 1595691390557,
     "user": {
      "displayName": "Anmol Gulwani",
      "photoUrl": "",
      "userId": "09050414380925456710"
     },
     "user_tz": -330
    },
    "id": "Ze4oFHvUH4y7",
    "outputId": "b5092e2b-9c25-45f2-e908-8ad0afaa835d"
   },
   "outputs": [
    {
     "name": "stdout",
     "output_type": "stream",
     "text": [
      "Help on class str in module builtins:\n",
      "\n",
      "class str(object)\n",
      " |  str(object='') -> str\n",
      " |  str(bytes_or_buffer[, encoding[, errors]]) -> str\n",
      " |  \n",
      " |  Create a new string object from the given object. If encoding or\n",
      " |  errors is specified, then the object must expose a data buffer\n",
      " |  that will be decoded using the given encoding and error handler.\n",
      " |  Otherwise, returns the result of object.__str__() (if defined)\n",
      " |  or repr(object).\n",
      " |  encoding defaults to sys.getdefaultencoding().\n",
      " |  errors defaults to 'strict'.\n",
      " |  \n",
      " |  Methods defined here:\n",
      " |  \n",
      " |  __add__(self, value, /)\n",
      " |      Return self+value.\n",
      " |  \n",
      " |  __contains__(self, key, /)\n",
      " |      Return key in self.\n",
      " |  \n",
      " |  __eq__(self, value, /)\n",
      " |      Return self==value.\n",
      " |  \n",
      " |  __format__(self, format_spec, /)\n",
      " |      Return a formatted version of the string as described by format_spec.\n",
      " |  \n",
      " |  __ge__(self, value, /)\n",
      " |      Return self>=value.\n",
      " |  \n",
      " |  __getattribute__(self, name, /)\n",
      " |      Return getattr(self, name).\n",
      " |  \n",
      " |  __getitem__(self, key, /)\n",
      " |      Return self[key].\n",
      " |  \n",
      " |  __getnewargs__(...)\n",
      " |  \n",
      " |  __gt__(self, value, /)\n",
      " |      Return self>value.\n",
      " |  \n",
      " |  __hash__(self, /)\n",
      " |      Return hash(self).\n",
      " |  \n",
      " |  __iter__(self, /)\n",
      " |      Implement iter(self).\n",
      " |  \n",
      " |  __le__(self, value, /)\n",
      " |      Return self<=value.\n",
      " |  \n",
      " |  __len__(self, /)\n",
      " |      Return len(self).\n",
      " |  \n",
      " |  __lt__(self, value, /)\n",
      " |      Return self<value.\n",
      " |  \n",
      " |  __mod__(self, value, /)\n",
      " |      Return self%value.\n",
      " |  \n",
      " |  __mul__(self, value, /)\n",
      " |      Return self*value.\n",
      " |  \n",
      " |  __ne__(self, value, /)\n",
      " |      Return self!=value.\n",
      " |  \n",
      " |  __repr__(self, /)\n",
      " |      Return repr(self).\n",
      " |  \n",
      " |  __rmod__(self, value, /)\n",
      " |      Return value%self.\n",
      " |  \n",
      " |  __rmul__(self, value, /)\n",
      " |      Return value*self.\n",
      " |  \n",
      " |  __sizeof__(self, /)\n",
      " |      Return the size of the string in memory, in bytes.\n",
      " |  \n",
      " |  __str__(self, /)\n",
      " |      Return str(self).\n",
      " |  \n",
      " |  capitalize(self, /)\n",
      " |      Return a capitalized version of the string.\n",
      " |      \n",
      " |      More specifically, make the first character have upper case and the rest lower\n",
      " |      case.\n",
      " |  \n",
      " |  casefold(self, /)\n",
      " |      Return a version of the string suitable for caseless comparisons.\n",
      " |  \n",
      " |  center(self, width, fillchar=' ', /)\n",
      " |      Return a centered string of length width.\n",
      " |      \n",
      " |      Padding is done using the specified fill character (default is a space).\n",
      " |  \n",
      " |  count(...)\n",
      " |      S.count(sub[, start[, end]]) -> int\n",
      " |      \n",
      " |      Return the number of non-overlapping occurrences of substring sub in\n",
      " |      string S[start:end].  Optional arguments start and end are\n",
      " |      interpreted as in slice notation.\n",
      " |  \n",
      " |  encode(self, /, encoding='utf-8', errors='strict')\n",
      " |      Encode the string using the codec registered for encoding.\n",
      " |      \n",
      " |      encoding\n",
      " |        The encoding in which to encode the string.\n",
      " |      errors\n",
      " |        The error handling scheme to use for encoding errors.\n",
      " |        The default is 'strict' meaning that encoding errors raise a\n",
      " |        UnicodeEncodeError.  Other possible values are 'ignore', 'replace' and\n",
      " |        'xmlcharrefreplace' as well as any other name registered with\n",
      " |        codecs.register_error that can handle UnicodeEncodeErrors.\n",
      " |  \n",
      " |  endswith(...)\n",
      " |      S.endswith(suffix[, start[, end]]) -> bool\n",
      " |      \n",
      " |      Return True if S ends with the specified suffix, False otherwise.\n",
      " |      With optional start, test S beginning at that position.\n",
      " |      With optional end, stop comparing S at that position.\n",
      " |      suffix can also be a tuple of strings to try.\n",
      " |  \n",
      " |  expandtabs(self, /, tabsize=8)\n",
      " |      Return a copy where all tab characters are expanded using spaces.\n",
      " |      \n",
      " |      If tabsize is not given, a tab size of 8 characters is assumed.\n",
      " |  \n",
      " |  find(...)\n",
      " |      S.find(sub[, start[, end]]) -> int\n",
      " |      \n",
      " |      Return the lowest index in S where substring sub is found,\n",
      " |      such that sub is contained within S[start:end].  Optional\n",
      " |      arguments start and end are interpreted as in slice notation.\n",
      " |      \n",
      " |      Return -1 on failure.\n",
      " |  \n",
      " |  format(...)\n",
      " |      S.format(*args, **kwargs) -> str\n",
      " |      \n",
      " |      Return a formatted version of S, using substitutions from args and kwargs.\n",
      " |      The substitutions are identified by braces ('{' and '}').\n",
      " |  \n",
      " |  format_map(...)\n",
      " |      S.format_map(mapping) -> str\n",
      " |      \n",
      " |      Return a formatted version of S, using substitutions from mapping.\n",
      " |      The substitutions are identified by braces ('{' and '}').\n",
      " |  \n",
      " |  index(...)\n",
      " |      S.index(sub[, start[, end]]) -> int\n",
      " |      \n",
      " |      Return the lowest index in S where substring sub is found,\n",
      " |      such that sub is contained within S[start:end].  Optional\n",
      " |      arguments start and end are interpreted as in slice notation.\n",
      " |      \n",
      " |      Raises ValueError when the substring is not found.\n",
      " |  \n",
      " |  isalnum(self, /)\n",
      " |      Return True if the string is an alpha-numeric string, False otherwise.\n",
      " |      \n",
      " |      A string is alpha-numeric if all characters in the string are alpha-numeric and\n",
      " |      there is at least one character in the string.\n",
      " |  \n",
      " |  isalpha(self, /)\n",
      " |      Return True if the string is an alphabetic string, False otherwise.\n",
      " |      \n",
      " |      A string is alphabetic if all characters in the string are alphabetic and there\n",
      " |      is at least one character in the string.\n",
      " |  \n",
      " |  isascii(self, /)\n",
      " |      Return True if all characters in the string are ASCII, False otherwise.\n",
      " |      \n",
      " |      ASCII characters have code points in the range U+0000-U+007F.\n",
      " |      Empty string is ASCII too.\n",
      " |  \n",
      " |  isdecimal(self, /)\n",
      " |      Return True if the string is a decimal string, False otherwise.\n",
      " |      \n",
      " |      A string is a decimal string if all characters in the string are decimal and\n",
      " |      there is at least one character in the string.\n",
      " |  \n",
      " |  isdigit(self, /)\n",
      " |      Return True if the string is a digit string, False otherwise.\n",
      " |      \n",
      " |      A string is a digit string if all characters in the string are digits and there\n",
      " |      is at least one character in the string.\n",
      " |  \n",
      " |  isidentifier(self, /)\n",
      " |      Return True if the string is a valid Python identifier, False otherwise.\n",
      " |      \n",
      " |      Call keyword.iskeyword(s) to test whether string s is a reserved identifier,\n",
      " |      such as \"def\" or \"class\".\n",
      " |  \n",
      " |  islower(self, /)\n",
      " |      Return True if the string is a lowercase string, False otherwise.\n",
      " |      \n",
      " |      A string is lowercase if all cased characters in the string are lowercase and\n",
      " |      there is at least one cased character in the string.\n",
      " |  \n",
      " |  isnumeric(self, /)\n",
      " |      Return True if the string is a numeric string, False otherwise.\n",
      " |      \n",
      " |      A string is numeric if all characters in the string are numeric and there is at\n",
      " |      least one character in the string.\n",
      " |  \n",
      " |  isprintable(self, /)\n",
      " |      Return True if the string is printable, False otherwise.\n",
      " |      \n",
      " |      A string is printable if all of its characters are considered printable in\n",
      " |      repr() or if it is empty.\n",
      " |  \n",
      " |  isspace(self, /)\n",
      " |      Return True if the string is a whitespace string, False otherwise.\n",
      " |      \n",
      " |      A string is whitespace if all characters in the string are whitespace and there\n",
      " |      is at least one character in the string.\n",
      " |  \n",
      " |  istitle(self, /)\n",
      " |      Return True if the string is a title-cased string, False otherwise.\n",
      " |      \n",
      " |      In a title-cased string, upper- and title-case characters may only\n",
      " |      follow uncased characters and lowercase characters only cased ones.\n",
      " |  \n",
      " |  isupper(self, /)\n",
      " |      Return True if the string is an uppercase string, False otherwise.\n",
      " |      \n",
      " |      A string is uppercase if all cased characters in the string are uppercase and\n",
      " |      there is at least one cased character in the string.\n",
      " |  \n",
      " |  join(self, iterable, /)\n",
      " |      Concatenate any number of strings.\n",
      " |      \n",
      " |      The string whose method is called is inserted in between each given string.\n",
      " |      The result is returned as a new string.\n",
      " |      \n",
      " |      Example: '.'.join(['ab', 'pq', 'rs']) -> 'ab.pq.rs'\n",
      " |  \n",
      " |  ljust(self, width, fillchar=' ', /)\n",
      " |      Return a left-justified string of length width.\n",
      " |      \n",
      " |      Padding is done using the specified fill character (default is a space).\n",
      " |  \n",
      " |  lower(self, /)\n",
      " |      Return a copy of the string converted to lowercase.\n",
      " |  \n",
      " |  lstrip(self, chars=None, /)\n",
      " |      Return a copy of the string with leading whitespace removed.\n",
      " |      \n",
      " |      If chars is given and not None, remove characters in chars instead.\n",
      " |  \n",
      " |  partition(self, sep, /)\n",
      " |      Partition the string into three parts using the given separator.\n",
      " |      \n",
      " |      This will search for the separator in the string.  If the separator is found,\n",
      " |      returns a 3-tuple containing the part before the separator, the separator\n",
      " |      itself, and the part after it.\n",
      " |      \n",
      " |      If the separator is not found, returns a 3-tuple containing the original string\n",
      " |      and two empty strings.\n",
      " |  \n",
      " |  replace(self, old, new, count=-1, /)\n",
      " |      Return a copy with all occurrences of substring old replaced by new.\n",
      " |      \n",
      " |        count\n",
      " |          Maximum number of occurrences to replace.\n",
      " |          -1 (the default value) means replace all occurrences.\n",
      " |      \n",
      " |      If the optional argument count is given, only the first count occurrences are\n",
      " |      replaced.\n",
      " |  \n",
      " |  rfind(...)\n",
      " |      S.rfind(sub[, start[, end]]) -> int\n",
      " |      \n",
      " |      Return the highest index in S where substring sub is found,\n",
      " |      such that sub is contained within S[start:end].  Optional\n",
      " |      arguments start and end are interpreted as in slice notation.\n",
      " |      \n",
      " |      Return -1 on failure.\n",
      " |  \n",
      " |  rindex(...)\n",
      " |      S.rindex(sub[, start[, end]]) -> int\n",
      " |      \n",
      " |      Return the highest index in S where substring sub is found,\n",
      " |      such that sub is contained within S[start:end].  Optional\n",
      " |      arguments start and end are interpreted as in slice notation.\n",
      " |      \n",
      " |      Raises ValueError when the substring is not found.\n",
      " |  \n",
      " |  rjust(self, width, fillchar=' ', /)\n",
      " |      Return a right-justified string of length width.\n",
      " |      \n",
      " |      Padding is done using the specified fill character (default is a space).\n",
      " |  \n",
      " |  rpartition(self, sep, /)\n",
      " |      Partition the string into three parts using the given separator.\n",
      " |      \n",
      " |      This will search for the separator in the string, starting at the end. If\n",
      " |      the separator is found, returns a 3-tuple containing the part before the\n",
      " |      separator, the separator itself, and the part after it.\n",
      " |      \n",
      " |      If the separator is not found, returns a 3-tuple containing two empty strings\n",
      " |      and the original string.\n",
      " |  \n",
      " |  rsplit(self, /, sep=None, maxsplit=-1)\n",
      " |      Return a list of the words in the string, using sep as the delimiter string.\n",
      " |      \n",
      " |        sep\n",
      " |          The delimiter according which to split the string.\n",
      " |          None (the default value) means split according to any whitespace,\n",
      " |          and discard empty strings from the result.\n",
      " |        maxsplit\n",
      " |          Maximum number of splits to do.\n",
      " |          -1 (the default value) means no limit.\n",
      " |      \n",
      " |      Splits are done starting at the end of the string and working to the front.\n",
      " |  \n",
      " |  rstrip(self, chars=None, /)\n",
      " |      Return a copy of the string with trailing whitespace removed.\n",
      " |      \n",
      " |      If chars is given and not None, remove characters in chars instead.\n",
      " |  \n",
      " |  split(self, /, sep=None, maxsplit=-1)\n",
      " |      Return a list of the words in the string, using sep as the delimiter string.\n",
      " |      \n",
      " |      sep\n",
      " |        The delimiter according which to split the string.\n",
      " |        None (the default value) means split according to any whitespace,\n",
      " |        and discard empty strings from the result.\n",
      " |      maxsplit\n",
      " |        Maximum number of splits to do.\n",
      " |        -1 (the default value) means no limit.\n",
      " |  \n",
      " |  splitlines(self, /, keepends=False)\n",
      " |      Return a list of the lines in the string, breaking at line boundaries.\n",
      " |      \n",
      " |      Line breaks are not included in the resulting list unless keepends is given and\n",
      " |      true.\n",
      " |  \n",
      " |  startswith(...)\n",
      " |      S.startswith(prefix[, start[, end]]) -> bool\n",
      " |      \n",
      " |      Return True if S starts with the specified prefix, False otherwise.\n",
      " |      With optional start, test S beginning at that position.\n",
      " |      With optional end, stop comparing S at that position.\n",
      " |      prefix can also be a tuple of strings to try.\n",
      " |  \n",
      " |  strip(self, chars=None, /)\n",
      " |      Return a copy of the string with leading and trailing whitespace removed.\n",
      " |      \n",
      " |      If chars is given and not None, remove characters in chars instead.\n",
      " |  \n",
      " |  swapcase(self, /)\n",
      " |      Convert uppercase characters to lowercase and lowercase characters to uppercase.\n",
      " |  \n",
      " |  title(self, /)\n",
      " |      Return a version of the string where each word is titlecased.\n",
      " |      \n",
      " |      More specifically, words start with uppercased characters and all remaining\n",
      " |      cased characters have lower case.\n",
      " |  \n",
      " |  translate(self, table, /)\n",
      " |      Replace each character in the string using the given translation table.\n",
      " |      \n",
      " |        table\n",
      " |          Translation table, which must be a mapping of Unicode ordinals to\n",
      " |          Unicode ordinals, strings, or None.\n",
      " |      \n",
      " |      The table must implement lookup/indexing via __getitem__, for instance a\n",
      " |      dictionary or list.  If this operation raises LookupError, the character is\n",
      " |      left untouched.  Characters mapped to None are deleted.\n",
      " |  \n",
      " |  upper(self, /)\n",
      " |      Return a copy of the string converted to uppercase.\n",
      " |  \n",
      " |  zfill(self, width, /)\n",
      " |      Pad a numeric string with zeros on the left, to fill a field of the given width.\n",
      " |      \n",
      " |      The string is never truncated.\n",
      " |  \n",
      " |  ----------------------------------------------------------------------\n",
      " |  Static methods defined here:\n",
      " |  \n",
      " |  __new__(*args, **kwargs) from builtins.type\n",
      " |      Create and return a new object.  See help(type) for accurate signature.\n",
      " |  \n",
      " |  maketrans(...)\n",
      " |      Return a translation table usable for str.translate().\n",
      " |      \n",
      " |      If there is only one argument, it must be a dictionary mapping Unicode\n",
      " |      ordinals (integers) or characters to Unicode ordinals, strings or None.\n",
      " |      Character keys will be then converted to ordinals.\n",
      " |      If there are two arguments, they must be strings of equal length, and\n",
      " |      in the resulting dictionary, each character in x will be mapped to the\n",
      " |      character at the same position in y. If there is a third argument, it\n",
      " |      must be a string, whose characters will be mapped to None in the result.\n",
      "\n"
     ]
    }
   ],
   "source": [
    "#Now there are a plenty of other string operations available in Python you could explore those using - \n",
    "help(str)\n",
    "#Ignore the methods with a double underscore, for now, those are called the magic methods and we have seen enough magic for the day to be a Python Wizard!!"
   ]
  },
  {
   "cell_type": "code",
   "execution_count": 46,
   "metadata": {},
   "outputs": [
    {
     "name": "stdout",
     "output_type": "stream",
     "text": [
      "worli,mumbai\n"
     ]
    }
   ],
   "source": [
    "# Example for what we learn so far\n",
    "\n",
    "input_str = \"wmourmlbia#i\"\n",
    "\n",
    "message1 = input_str[0:-1:2]\n",
    "message2 = input_str[1:len(input_str):2]\n",
    "\n",
    "print(message1.strip('#') + \",\" + message2.strip('#'))"
   ]
  }
 ],
 "metadata": {
  "anaconda-cloud": {},
  "colab": {
   "collapsed_sections": [],
   "name": "new_Session1.ipynb",
   "provenance": [
    {
     "file_id": "1IBn9rKwwt02w0TZQi0gicZY5Q9NKs_fh",
     "timestamp": 1595583573198
    }
   ]
  },
  "kernelspec": {
   "display_name": "Python 3",
   "language": "python",
   "name": "python3"
  },
  "language_info": {
   "codemirror_mode": {
    "name": "ipython",
    "version": 3
   },
   "file_extension": ".py",
   "mimetype": "text/x-python",
   "name": "python",
   "nbconvert_exporter": "python",
   "pygments_lexer": "ipython3",
   "version": "3.8.8"
  }
 },
 "nbformat": 4,
 "nbformat_minor": 1
}
